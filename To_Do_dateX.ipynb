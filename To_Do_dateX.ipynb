{
  "nbformat": 4,
  "nbformat_minor": 0,
  "metadata": {
    "colab": {
      "provenance": [],
      "authorship_tag": "ABX9TyOJcYpV3uR9BfpsR93NivuF",
      "include_colab_link": true
    },
    "kernelspec": {
      "name": "python3",
      "display_name": "Python 3"
    },
    "language_info": {
      "name": "python"
    }
  },
  "cells": [
    {
      "cell_type": "markdown",
      "metadata": {
        "id": "view-in-github",
        "colab_type": "text"
      },
      "source": [
        "<a href=\"https://colab.research.google.com/github/MingSSOKim/ToDo_List/blob/main/To_Do_dateX.ipynb\" target=\"_parent\"><img src=\"https://colab.research.google.com/assets/colab-badge.svg\" alt=\"Open In Colab\"/></a>"
      ]
    },
    {
      "cell_type": "markdown",
      "source": [
        "## 콘솔 기반 To-Do List 앱 만들기\n",
        "\n",
        "> 기능(할 일 추가, 삭제, 완료, 목록, 날짜)\n",
        "\n",
        "\n",
        "\n"
      ],
      "metadata": {
        "id": "DU8Ul5uB4QTo"
      }
    },
    {
      "cell_type": "code",
      "source": [
        "#⊙메인 메뉴\n",
        "\n",
        "def show_menu():\n",
        "  print(\"==== To-Do List ====\")\n",
        "  print(\"1. 할 일 목록\")\n",
        "  print(\"2. 할 일 추가\")\n",
        "  print(\"3. 할 일 삭제\")\n",
        "  print(\"4. 할 일 완료 표시\")\n",
        "  print(\"5. 모든 할 일 초기화\")\n",
        "  print(\"6. 종료\")"
      ],
      "metadata": {
        "id": "M-OPMA1lPnos"
      },
      "execution_count": null,
      "outputs": []
    },
    {
      "cell_type": "code",
      "source": [
        "#①할 일 목록\n",
        "\n",
        "todo_list=[]\n",
        "\n",
        "def show_task():\n",
        "    print(\"\\n현재 할 일 목록:\")\n",
        "\n",
        "    for i, item in enumerate(todo_list, start=1): #enumerate(todo_list, start=1): 리스트를 1번부터 순서대로 출력해줌\n",
        "        status = \"■\" if item[\"done\"] else \"□\"\n",
        "        task_text = item[\"task\"]\n",
        "        if item[\"done\"]:\n",
        "            task_text = f\"~~{task_text}~~\"\n",
        "        print(f\"{status} {i}. {task_text}\")"
      ],
      "metadata": {
        "id": "RqJp55OwH1LQ"
      },
      "execution_count": null,
      "outputs": []
    },
    {
      "cell_type": "code",
      "source": [
        "#②할 일 추가\n",
        "\n",
        "def add_task():\n",
        "  task = input(\"할 일을 입력하시오: \").strip()  #strip()실수로 공백만 입력했을 때도 빈 문자열로 처리\n",
        "\n",
        "  if task:\n",
        "    normalized_task = task.lower()  # 소문자로 통일\n",
        "\n",
        "    if any(normalized_task == t[\"task\"].strip().lower() for t in todo_list): #중복 여부 확인\n",
        "      print(\"이미 등록된 할 일입니다.\")\n",
        "    else:\n",
        "      todo_list.append({\"task\": task.strip(), \"done\": False})\n",
        "      print(f\"'{task}'를(을) 목록에 추가했습니다.\")\n",
        "  else:\n",
        "    print(\"입력하지 않았습니다. \")"
      ],
      "metadata": {
        "id": "of5QxfvRCueD"
      },
      "execution_count": null,
      "outputs": []
    },
    {
      "cell_type": "code",
      "source": [
        "#③할 일 체크\n",
        "\n",
        "def task_done():\n",
        "  show_task()\n",
        "  try:\n",
        "    index = int(input(\"완료한 할 일 번호를 입력하세요: \")) - 1\n",
        "    if 0 <= index < len(todo_list):\n",
        "      if todo_list[index][\"done\"]:\n",
        "          print(f\"'{todo_list[index]['task']}'는 이미 완료된 항목입니다.\")\n",
        "      else:\n",
        "          todo_list[index][\"done\"] = True\n",
        "          print(f\"🎉 '{todo_list[index]['task']}' 완료 처리!\")\n",
        "    else:\n",
        "        print(\"올바른 번호를 입력해주세요.\")\n",
        "  except ValueError:\n",
        "    print(\"숫자를 입력해주세요.\")\n",
        "\n",
        "  #try; 오류가 날 가능성이 있는 코드\n",
        "  #except 오류종류; 오류가 났을 때 실행하는 경우\n",
        "  #오류 종류: 파일이 없을 때: FileNotFoundError / 리스트 범위 벗어날 때: IndexError 등등\n",
        "  #필요하다면 except Exception as e:를 써서 어떤 오류든 다 잡을 수도 있음."
      ],
      "metadata": {
        "id": "QhJMSmnaO-Ql"
      },
      "execution_count": null,
      "outputs": []
    },
    {
      "cell_type": "code",
      "source": [
        "#④할 일 삭제\n",
        "\n",
        "def del_task():\n",
        "    show_task()\n",
        "\n",
        "    if not todo_list:\n",
        "        print(\"삭제할 할 일이 없습니다.\")\n",
        "        return\n",
        "\n",
        "    try:\n",
        "        index = int(input(\"삭제할 할 일 번호를 입력하세요: \")) - 1\n",
        "\n",
        "        if 0 <= index < len(todo_list):\n",
        "            task_text = todo_list[index]['task']\n",
        "            confirm = input(f\"정말로 '{task_text}'를 삭제할까요? (y/n): \").strip().lower()\n",
        "            if confirm == 'y':\n",
        "                del todo_list[index]\n",
        "                print(\"할 일을 삭제했습니다.\")\n",
        "            else:\n",
        "                print(\"삭제를 취소했습니다.\")\n",
        "        else:\n",
        "            print(\"올바른 번호를 입력해주세요.\")\n",
        "    except ValueError:\n",
        "        print(\"숫자를 입력해주세요.\")"
      ],
      "metadata": {
        "id": "6iUkv2bUmzHY"
      },
      "execution_count": null,
      "outputs": []
    },
    {
      "cell_type": "code",
      "source": [
        "# 리스트 초기화\n",
        "\n",
        "def reset_task():\n",
        "  confirm = input(\"정말 모든 할 일을 삭제하시겠습니까? (y/n): \").lower()\n",
        "  if confirm == 'y':\n",
        "    todo_list.clear()\n",
        "    print(\"할 일 목록이 초기화되었습니다.\")\n",
        "  else:\n",
        "    print(\"초기화를 취소했습니다.\")"
      ],
      "metadata": {
        "id": "FmJ58q4snMdt"
      },
      "execution_count": null,
      "outputs": []
    },
    {
      "cell_type": "code",
      "source": [
        "while True:\n",
        "  show_menu()\n",
        "\n",
        "  choice = input(\"메뉴를 선택하시오: \").strip()\n",
        "\n",
        "  if choice == \"1\":\n",
        "    show_task()\n",
        "  elif choice == \"2\":\n",
        "    add_task()\n",
        "  elif choice == \"3\":\n",
        "    del_task()\n",
        "  elif choice == \"4\":\n",
        "    task_done()\n",
        "  elif choice == \"5\":\n",
        "    reset_task()\n",
        "  elif choice == \"6\":\n",
        "    print(\"프로그램을 종료합니다.\")\n",
        "    break\n",
        "  else:\n",
        "    print(\"잘못된 입력입니다. 다시 선택해주세요.\")"
      ],
      "metadata": {
        "colab": {
          "base_uri": "https://localhost:8080/"
        },
        "id": "cNIZ6iGUxZwG",
        "outputId": "a278c9c4-ec90-4e68-8386-4c66797bb80c"
      },
      "execution_count": null,
      "outputs": [
        {
          "output_type": "stream",
          "name": "stdout",
          "text": [
            "==== To-Do List ====\n",
            "1. 할 일 목록\n",
            "2. 할 일 추가\n",
            "3. 할 일 삭제\n",
            "4. 할 일 완료 표시\n",
            "5. 모든 할 일 초기화\n",
            "6. 종료\n",
            "메뉴를 선택하시오: 2\n",
            "할 일을 입력하시오: go to home\n",
            "'go to home'를(을) 목록에 추가했습니다.\n",
            "==== To-Do List ====\n",
            "1. 할 일 목록\n",
            "2. 할 일 추가\n",
            "3. 할 일 삭제\n",
            "4. 할 일 완료 표시\n",
            "5. 모든 할 일 초기화\n",
            "6. 종료\n",
            "메뉴를 선택하시오: 할 일 하기\n",
            "잘못된 입력입니다. 다시 선택해주세요.\n",
            "==== To-Do List ====\n",
            "1. 할 일 목록\n",
            "2. 할 일 추가\n",
            "3. 할 일 삭제\n",
            "4. 할 일 완료 표시\n",
            "5. 모든 할 일 초기화\n",
            "6. 종료\n",
            "메뉴를 선택하시오: 2\n",
            "할 일을 입력하시오: 할 일 하기\n",
            "'할 일 하기'를(을) 목록에 추가했습니다.\n",
            "==== To-Do List ====\n",
            "1. 할 일 목록\n",
            "2. 할 일 추가\n",
            "3. 할 일 삭제\n",
            "4. 할 일 완료 표시\n",
            "5. 모든 할 일 초기화\n",
            "6. 종료\n",
            "메뉴를 선택하시오: 4\n",
            "\n",
            "현재 할 일 목록:\n",
            "□ 1. go to home\n",
            "□ 2. 할 일 하기\n",
            "완료한 할 일 번호를 입력하세요: 1\n",
            "🎉 'go to home' 완료 처리!\n",
            "==== To-Do List ====\n",
            "1. 할 일 목록\n",
            "2. 할 일 추가\n",
            "3. 할 일 삭제\n",
            "4. 할 일 완료 표시\n",
            "5. 모든 할 일 초기화\n",
            "6. 종료\n",
            "메뉴를 선택하시오: 1\n",
            "\n",
            "현재 할 일 목록:\n",
            "■ 1. ~~go to home~~\n",
            "□ 2. 할 일 하기\n",
            "==== To-Do List ====\n",
            "1. 할 일 목록\n",
            "2. 할 일 추가\n",
            "3. 할 일 삭제\n",
            "4. 할 일 완료 표시\n",
            "5. 모든 할 일 초기화\n",
            "6. 종료\n",
            "메뉴를 선택하시오: 6\n",
            "프로그램을 종료합니다.\n"
          ]
        }
      ]
    }
  ]
}