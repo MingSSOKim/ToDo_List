{
  "nbformat": 4,
  "nbformat_minor": 0,
  "metadata": {
    "colab": {
      "provenance": [],
      "authorship_tag": "ABX9TyOXrajkDGehJMtivHXUG3ch",
      "include_colab_link": true
    },
    "kernelspec": {
      "name": "python3",
      "display_name": "Python 3"
    },
    "language_info": {
      "name": "python"
    }
  },
  "cells": [
    {
      "cell_type": "markdown",
      "metadata": {
        "id": "view-in-github",
        "colab_type": "text"
      },
      "source": [
        "<a href=\"https://colab.research.google.com/github/MingSSOKim/ToDo_List/blob/main/To_Do_dateO.ipynb\" target=\"_parent\"><img src=\"https://colab.research.google.com/assets/colab-badge.svg\" alt=\"Open In Colab\"/></a>"
      ]
    },
    {
      "cell_type": "markdown",
      "source": [
        "## 콘솔 기반 To-Do List 앱 만들기\n",
        "\n",
        "> 기능(할 일 추가, 삭제, 완료, 목록, 날짜)\n",
        "\n",
        "\n",
        "\n"
      ],
      "metadata": {
        "id": "DU8Ul5uB4QTo"
      }
    },
    {
      "cell_type": "code",
      "source": [
        "from datetime import datetime"
      ],
      "metadata": {
        "id": "mGOdTrA3gbJ6"
      },
      "execution_count": null,
      "outputs": []
    },
    {
      "cell_type": "code",
      "source": [
        "#입력한 날짜 문자열을 올바른 날짜로 해석 및 형식 통일\n",
        "def parse_date(date_str):\n",
        "    date_str = date_str.strip()\n",
        "\n",
        "    # 숫자만 들어온 경우 처리 (예: \"425\", \"0425\")\n",
        "    if date_str.isdigit():\n",
        "        if len(date_str) == 4:\n",
        "            month = date_str[:2]\n",
        "            day = date_str[2:]\n",
        "        elif len(date_str) == 3:\n",
        "            month = \"0\" + date_str[0]\n",
        "            day = date_str[1:]\n",
        "        else:\n",
        "            return None\n",
        "        try:\n",
        "            date = datetime.strptime(f\"{month}/{day}\", \"%m/%d\")\n",
        "            return date.strftime(\"%m/%d\")\n",
        "        except ValueError:\n",
        "            return None\n",
        "\n",
        "    # 일반적인 포맷 처리\n",
        "    formats = [\"%m.%d\", \"%m/%d\", \"%m-%d\", \"%m%d\"]\n",
        "    for fmt in formats:\n",
        "        try:\n",
        "            date = datetime.strptime(date_str, fmt)\n",
        "            return date.strftime(\"%m/%d\")\n",
        "        except ValueError:\n",
        "            continue\n",
        "\n",
        "    return None"
      ],
      "metadata": {
        "id": "etkyhQQSRRK-"
      },
      "execution_count": null,
      "outputs": []
    },
    {
      "cell_type": "code",
      "source": [
        "#⊙메인 메뉴\n",
        "\n",
        "def show_menu():\n",
        "  print(\"==== To-Do List ====\")\n",
        "  print(\"1. 할 일 목록\")\n",
        "  print(\"2. 할 일 추가\")\n",
        "  print(\"3. 할 일 삭제\")\n",
        "  print(\"4. 할 일 완료 표시\")\n",
        "  print(\"5. 날짜별 할 일 표시\")\n",
        "  print(\"6. 모든 할 일 초기화\")\n",
        "  print(\"7. 종료\")"
      ],
      "metadata": {
        "id": "M-OPMA1lPnos"
      },
      "execution_count": null,
      "outputs": []
    },
    {
      "cell_type": "code",
      "source": [
        "todo_list=[]\n",
        "\n",
        "#①할 일 목록\n",
        "def show_task():\n",
        "  print(\"\\n현재 할 일 목록:\")\n",
        "\n",
        "  for i, item in enumerate(todo_list, start=1): #enumerate(todo_list, start=1): 리스트를 1번부터 순서대로 출력해줌\n",
        "      status = \"■\" if item[\"done\"] else \"□\"\n",
        "      task_text = item[\"task\"]\n",
        "      if item[\"done\"]:\n",
        "          task_text = f\"~~{task_text}~~\"\n",
        "\n",
        "      parsed_date = item[\"date\"]\n",
        "      print(f\"{status} {i}. {task_text} ({parsed_date})\")\n",
        "\n",
        "#날짜별 할 일 보기\n",
        "def show_task_by_date():\n",
        "  date_input = input(\"조회할 날짜를 입력하시오: \").strip()\n",
        "  parsed_date = parse_date(date_input)\n",
        "\n",
        "  if not parsed_date:\n",
        "    print(\"날짜 형식이 올바르지 않습니다.\")\n",
        "    return\n",
        "\n",
        "  print(f\"\\n📅 {parsed_date} 할 일 목록:\")\n",
        "\n",
        "  has_task = False\n",
        "  for i, item in enumerate(todo_list, start=1):\n",
        "      if item[\"date\"] == parsed_date:\n",
        "          status = \"■\" if item[\"done\"] else \"□\"\n",
        "          print(f\"{status} {i}. {item['task']}\")\n",
        "          has_task = True\n",
        "\n",
        "  if not has_task:\n",
        "      print(\"해당 날짜에 등록된 할 일이 없습니다.\")"
      ],
      "metadata": {
        "id": "RqJp55OwH1LQ"
      },
      "execution_count": null,
      "outputs": []
    },
    {
      "cell_type": "code",
      "source": [
        "#②할 일 추가\n",
        "\n",
        "def add_task():\n",
        "  task = input(\"할 일을 입력하시오: \").strip()  #strip()실수로 공백만 입력했을 때도 빈 문자열로 처리\n",
        "  if not task:\n",
        "    print(\"입력하지 않았습니다.\")\n",
        "    return\n",
        "\n",
        "  normalized_task = task.lower()  # 소문자로 통일\n",
        "  if any(normalized_task == t[\"task\"].strip().lower() for t in todo_list): #중복 여부 확인\n",
        "    print(\"이미 등록된 할 일입니다.\")\n",
        "    return\n",
        "\n",
        "  #날짜 입력 받기\n",
        "  date_input = input(\"날짜를 입력하시오: \").strip()\n",
        "  if date_input:\n",
        "    parsed_date = parse_date(date_input)\n",
        "    if not parsed_date:\n",
        "      print(\"날짜 형식이 올바르지 않습니다.\")\n",
        "      return\n",
        "  else:\n",
        "    parsed_date = None\n",
        "\n",
        "  #할 일 추가\n",
        "  todo_list.append({\"task\": task.strip(),\n",
        "                    \"done\": False,\n",
        "                    \"date\": parsed_date})\n",
        "\n",
        "  print(f\"'{task}'를(을) {parsed_date}에 추가했습니다.\")"
      ],
      "metadata": {
        "id": "of5QxfvRCueD"
      },
      "execution_count": null,
      "outputs": []
    },
    {
      "cell_type": "code",
      "source": [
        "#③할 일 체크\n",
        "\n",
        "def task_done():\n",
        "  show_task()\n",
        "  try:\n",
        "    index = int(input(\"완료한 할 일 번호를 입력하세요: \")) - 1\n",
        "    if 0 <= index < len(todo_list):\n",
        "      if todo_list[index][\"done\"]:\n",
        "          print(f\"'{todo_list[index]['task']}'는 이미 완료된 항목입니다.\")\n",
        "      else:\n",
        "          todo_list[index][\"done\"] = True\n",
        "          print(f\"🎉 '{todo_list[index]['task']}' 완료 처리!\")\n",
        "    else:\n",
        "        print(\"올바른 번호를 입력해주세요.\")\n",
        "  except ValueError:\n",
        "    print(\"숫자를 입력해주세요.\")\n",
        "\n",
        "  #try; 오류가 날 가능성이 있는 코드\n",
        "  #except 오류종류; 오류가 났을 때 실행하는 경우\n",
        "  #오류 종류: 파일이 없을 때: FileNotFoundError / 리스트 범위 벗어날 때: IndexError 등등\n",
        "  #필요하다면 except Exception as e:를 써서 어떤 오류든 다 잡을 수도 있음."
      ],
      "metadata": {
        "id": "QhJMSmnaO-Ql"
      },
      "execution_count": null,
      "outputs": []
    },
    {
      "cell_type": "code",
      "source": [
        "#④할 일 삭제\n",
        "\n",
        "def del_task():\n",
        "    show_task()\n",
        "\n",
        "    if not todo_list:\n",
        "        print(\"삭제할 할 일이 없습니다.\")\n",
        "        return\n",
        "\n",
        "    try:\n",
        "        index = int(input(\"삭제할 할 일 번호를 입력하세요: \")) - 1\n",
        "\n",
        "        if 0 <= index < len(todo_list):\n",
        "            task_text = todo_list[index]['task']\n",
        "            confirm = input(f\"정말로 '{task_text}'를 삭제할까요? (y/n): \").strip().lower()\n",
        "            if confirm == 'y':\n",
        "                del todo_list[index]\n",
        "                print(\"할 일을 삭제했습니다.\")\n",
        "            else:\n",
        "                print(\"삭제를 취소했습니다.\")\n",
        "        else:\n",
        "            print(\"올바른 번호를 입력해주세요.\")\n",
        "    except ValueError:\n",
        "        print(\"숫자를 입력해주세요.\")"
      ],
      "metadata": {
        "id": "6iUkv2bUmzHY"
      },
      "execution_count": null,
      "outputs": []
    },
    {
      "cell_type": "code",
      "source": [
        "# 리스트 초기화\n",
        "\n",
        "def reset_task():\n",
        "  confirm = input(\"정말 모든 할 일을 삭제하시겠습니까? (y/n): \").lower()\n",
        "  if confirm == 'y':\n",
        "    todo_list.clear()\n",
        "    print(\"할 일 목록이 초기화되었습니다.\")\n",
        "  else:\n",
        "    print(\"초기화를 취소했습니다.\")"
      ],
      "metadata": {
        "id": "FmJ58q4snMdt"
      },
      "execution_count": null,
      "outputs": []
    },
    {
      "cell_type": "code",
      "source": [
        "while True:\n",
        "  show_menu()\n",
        "\n",
        "  choice = input(\"메뉴를 선택하시오: \").strip()\n",
        "\n",
        "  if choice == \"1\":\n",
        "    show_task()\n",
        "  elif choice == \"2\":\n",
        "    add_task()\n",
        "  elif choice == \"3\":\n",
        "    del_task()\n",
        "  elif choice == \"4\":\n",
        "    task_done()\n",
        "  elif choice == \"5\":\n",
        "    show_task_by_date()\n",
        "  elif choice == \"6\":\n",
        "    reset_task()\n",
        "  elif choice == \"7\":\n",
        "    print(\"프로그램을 종료합니다.\")\n",
        "    break\n",
        "  else:\n",
        "    print(\"잘못된 입력입니다. 다시 선택해주세요.\")"
      ],
      "metadata": {
        "colab": {
          "base_uri": "https://localhost:8080/"
        },
        "id": "cNIZ6iGUxZwG",
        "outputId": "d4c236ad-6db2-4f16-bf25-ea27842e09d0"
      },
      "execution_count": null,
      "outputs": [
        {
          "output_type": "stream",
          "name": "stdout",
          "text": [
            "==== To-Do List ====\n",
            "1. 할 일 목록\n",
            "2. 할 일 추가\n",
            "3. 할 일 삭제\n",
            "4. 할 일 완료 표시\n",
            "5. 날짜별 할 일 표시\n",
            "6. 모든 할 일 초기화\n",
            "7. 종료\n",
            "메뉴를 선택하시오: 1\n",
            "\n",
            "현재 할 일 목록:\n",
            "==== To-Do List ====\n",
            "1. 할 일 목록\n",
            "2. 할 일 추가\n",
            "3. 할 일 삭제\n",
            "4. 할 일 완료 표시\n",
            "5. 날짜별 할 일 표시\n",
            "6. 모든 할 일 초기화\n",
            "7. 종료\n",
            "메뉴를 선택하시오: 2\n",
            "할 일을 입력하시오: 할 일 하기\n",
            "날짜를 입력하시오: 0505\n",
            "'할 일 하기'를(을) 05/05에 추가했습니다.\n",
            "==== To-Do List ====\n",
            "1. 할 일 목록\n",
            "2. 할 일 추가\n",
            "3. 할 일 삭제\n",
            "4. 할 일 완료 표시\n",
            "5. 날짜별 할 일 표시\n",
            "6. 모든 할 일 초기화\n",
            "7. 종료\n",
            "메뉴를 선택하시오: 1\n",
            "\n",
            "현재 할 일 목록:\n",
            "□ 1. 할 일 하기, (05/05)\n",
            "==== To-Do List ====\n",
            "1. 할 일 목록\n",
            "2. 할 일 추가\n",
            "3. 할 일 삭제\n",
            "4. 할 일 완료 표시\n",
            "5. 날짜별 할 일 표시\n",
            "6. 모든 할 일 초기화\n",
            "7. 종료\n",
            "메뉴를 선택하시오: 7\n",
            "프로그램을 종료합니다.\n"
          ]
        }
      ]
    }
  ]
}